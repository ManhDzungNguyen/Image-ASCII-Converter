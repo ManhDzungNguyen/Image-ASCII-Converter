{
 "cells": [
  {
   "cell_type": "code",
   "execution_count": 13,
   "metadata": {},
   "outputs": [],
   "source": [
    "%run src/main.py"
   ]
  }
 ],
 "metadata": {
  "kernelspec": {
   "display_name": "sendoenv",
   "language": "python",
   "name": "python3"
  },
  "language_info": {
   "codemirror_mode": {
    "name": "ipython",
    "version": 3
   },
   "file_extension": ".py",
   "mimetype": "text/x-python",
   "name": "python",
   "nbconvert_exporter": "python",
   "pygments_lexer": "ipython3",
   "version": "3.7.7"
  },
  "orig_nbformat": 4,
  "vscode": {
   "interpreter": {
    "hash": "801e6f9c3bf3192924f2c20ddae949050103f3bcc20e2486443a6ec0795d4b7f"
   }
  }
 },
 "nbformat": 4,
 "nbformat_minor": 2
}
